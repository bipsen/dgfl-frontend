{
 "cells": [
  {
   "cell_type": "code",
   "execution_count": 1,
   "metadata": {},
   "outputs": [],
   "source": [
    "import firebase_admin\n",
    "from firebase_admin import credentials\n",
    "from firebase_admin import firestore\n",
    "\n",
    "cred = credentials.Certificate('serviceAccount.json')\n",
    "\n",
    "app = firebase_admin.initialize_app(cred)\n",
    "\n",
    "db = firestore.client()"
   ]
  },
  {
   "cell_type": "code",
   "execution_count": 15,
   "metadata": {},
   "outputs": [],
   "source": [
    "doc = db.collection(\"events\").where(u\"Event_no\", u\"==\", \"999\").limit(1).get()[0]\n",
    "doc.reference.update({u'data': {\"test\": 1}})"
   ]
  },
  {
   "cell_type": "code",
   "execution_count": 11,
   "metadata": {},
   "outputs": [
    {
     "data": {
      "text/plain": [
       "<google.cloud.firestore_v1.query.Query at 0x7fb13ad7ebb0>"
      ]
     },
     "execution_count": 11,
     "metadata": {},
     "output_type": "execute_result"
    }
   ],
   "source": [
    "doc_ref"
   ]
  },
  {
   "cell_type": "code",
   "execution_count": 18,
   "metadata": {},
   "outputs": [
    {
     "data": {
      "text/plain": [
       "update_time {\n",
       "  seconds: 1676566020\n",
       "  nanos: 202988000\n",
       "}"
      ]
     },
     "execution_count": 18,
     "metadata": {},
     "output_type": "execute_result"
    }
   ],
   "source": [
    "(db\n",
    ".collection(\"events\")\n",
    ".where(u\"Event_no\", u\"==\", \"999\")\n",
    ".limit(1)\n",
    ".get()[0]\n",
    ".reference\n",
    ".update({u'data': {\"test\": 2}})\n",
    ")"
   ]
  },
  {
   "cell_type": "code",
   "execution_count": 20,
   "metadata": {},
   "outputs": [
    {
     "data": {
      "text/plain": [
       "<google.cloud.firestore_v1.client.Client at 0x7fb1626267c0>"
      ]
     },
     "execution_count": 20,
     "metadata": {},
     "output_type": "execute_result"
    }
   ],
   "source": [
    "db"
   ]
  },
  {
   "cell_type": "code",
   "execution_count": 10,
   "metadata": {},
   "outputs": [],
   "source": [
    "docs = db.collection(u'players').stream()"
   ]
  },
  {
   "cell_type": "code",
   "execution_count": 7,
   "metadata": {},
   "outputs": [],
   "source": [
    "for doc in docs:\n",
    "    new_team_name = doc.get(\"team\").replace(' / ', ', ')\n",
    "    doc.reference.update({\"team\": new_team_name})"
   ]
  },
  {
   "cell_type": "code",
   "execution_count": 11,
   "metadata": {},
   "outputs": [],
   "source": [
    "s = set()\n",
    "for doc in docs:\n",
    "    s.add(doc.get(\"team\"))"
   ]
  },
  {
   "cell_type": "code",
   "execution_count": 12,
   "metadata": {},
   "outputs": [
    {
     "data": {
      "text/plain": [
       "{'DGA, Gateway',\n",
       " 'Discmania',\n",
       " 'Discraft',\n",
       " 'Dynamic Discs',\n",
       " 'Infinite, Clash, Thought Space',\n",
       " 'Innova',\n",
       " 'Kastaplast, Westside, Albatross',\n",
       " 'Latitude 64',\n",
       " 'Lone Star Discs',\n",
       " 'MVP',\n",
       " 'Prodigy'}"
      ]
     },
     "execution_count": 12,
     "metadata": {},
     "output_type": "execute_result"
    }
   ],
   "source": [
    "s"
   ]
  },
  {
   "cell_type": "code",
   "execution_count": null,
   "metadata": {},
   "outputs": [],
   "source": []
  }
 ],
 "metadata": {
  "kernelspec": {
   "display_name": "base",
   "language": "python",
   "name": "python3"
  },
  "language_info": {
   "codemirror_mode": {
    "name": "ipython",
    "version": 3
   },
   "file_extension": ".py",
   "mimetype": "text/x-python",
   "name": "python",
   "nbconvert_exporter": "python",
   "pygments_lexer": "ipython3",
   "version": "3.9.13"
  },
  "orig_nbformat": 4,
  "vscode": {
   "interpreter": {
    "hash": "9d88d5305ccd73a0dacb70dc5e3dc631328186da4e70f1d26213b4d8b9c47b74"
   }
  }
 },
 "nbformat": 4,
 "nbformat_minor": 2
}
